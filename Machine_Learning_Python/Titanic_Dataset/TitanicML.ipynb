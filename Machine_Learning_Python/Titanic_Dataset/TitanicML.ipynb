{
  "cells": [
    {
      "cell_type": "markdown",
      "id": "reported-indonesian",
      "metadata": {
        "id": "reported-indonesian"
      },
      "source": [
        "<h1> Titanics Dataset Predictions </h1>\n",
        "<h2> Jose M. Serra Jr. </h2>\n",
        "Mounted Google Drive to import data from Kaggle Train, and Test data sets."
      ]
    },
    {
      "cell_type": "code",
      "source": [
        "from google.colab import drive\n",
        "drive.mount('/content/drive')"
      ],
      "metadata": {
        "colab": {
          "base_uri": "https://localhost:8080/"
        },
        "id": "l_gOe_bd3hw6",
        "outputId": "e7b9f1bd-12af-47ce-9d88-f3e56fbe1d75"
      },
      "id": "l_gOe_bd3hw6",
      "execution_count": 1,
      "outputs": [
        {
          "output_type": "stream",
          "name": "stdout",
          "text": [
            "Mounted at /content/drive\n"
          ]
        }
      ]
    },
    {
      "cell_type": "code",
      "execution_count": 2,
      "id": "forty-assessment",
      "metadata": {
        "id": "forty-assessment"
      },
      "outputs": [],
      "source": [
        "import matplotlib.pyplot as mplplt\n",
        "import numpy as np\n",
        "import pandas as pd\n",
        "from scipy.stats import reciprocal\n",
        "import tensorflow as tf\n",
        "import tensorflow.keras as keras\n",
        "from tensorflow.keras.callbacks import *\n",
        "from tensorflow.keras.layers import *\n",
        "from tensorflow.keras.metrics import *\n",
        "from tensorflow.keras.models import *\n",
        "from tensorflow.keras.optimizers import *\n",
        "from tensorflow.keras.optimizers.schedules import *\n",
        "import tensorflow.keras.callbacks as tkc\n",
        "from tensorflow.keras.wrappers.scikit_learn import KerasClassifier\n",
        "from sklearn.compose import make_column_transformer, ColumnTransformer\n",
        "from sklearn.impute import SimpleImputer\n",
        "from sklearn.manifold import Isomap\n",
        "from sklearn.model_selection import cross_val_score, GridSearchCV\n",
        "from sklearn.metrics import mean_squared_error\n",
        "from sklearn.pipeline import Pipeline\n",
        "from sklearn.preprocessing import StandardScaler, OneHotEncoder, OrdinalEncoder, LabelEncoder\n",
        "from sklearn.utils import resample"
      ]
    },
    {
      "cell_type": "markdown",
      "source": [
        "Here I included standard packages which include TensorFlow machine learning library, as well as the Sci-Kit Learn library for data processing. As well as standard imports such as Pandas for reading data, and numpy for numerial analysis."
      ],
      "metadata": {
        "id": "QA91Q4pSXScI"
      },
      "id": "QA91Q4pSXScI"
    },
    {
      "cell_type": "code",
      "execution_count": 3,
      "id": "developed-pioneer",
      "metadata": {
        "id": "developed-pioneer"
      },
      "outputs": [],
      "source": [
        "file1_train, file2_test = pd.read_csv(r\"/content/drive/MyDrive/Titanic/train.csv\", delimiter=\",\"),\\\n",
        "pd.read_csv(r\"/content/drive/MyDrive/Titanic/test.csv\", delimiter= \",\")"
      ]
    },
    {
      "cell_type": "markdown",
      "id": "basic-panama",
      "metadata": {
        "id": "basic-panama"
      },
      "source": [
        "<p> Now I am going to encode the Sex column into a binary 1s, and 0s output Sex_Binary column.</p>"
      ]
    },
    {
      "cell_type": "code",
      "execution_count": 4,
      "id": "37afb405",
      "metadata": {
        "id": "37afb405"
      },
      "outputs": [],
      "source": [
        "file1_train = file1_train.drop(columns = [\"PassengerId\",\"Name\"])\n",
        "X, y = file1_train.drop(\"Survived\", axis=1), file1_train[\"Survived\"]"
      ]
    },
    {
      "cell_type": "code",
      "execution_count": 6,
      "id": "20386dbb",
      "metadata": {
        "colab": {
          "base_uri": "https://localhost:8080/",
          "height": 206
        },
        "id": "20386dbb",
        "outputId": "b43381d9-a48b-4350-c3ab-3c01706597e3"
      },
      "outputs": [
        {
          "output_type": "execute_result",
          "data": {
            "text/html": [
              "\n",
              "  <div id=\"df-c7ce2438-9901-4a85-9a07-d516575df762\">\n",
              "    <div class=\"colab-df-container\">\n",
              "      <div>\n",
              "<style scoped>\n",
              "    .dataframe tbody tr th:only-of-type {\n",
              "        vertical-align: middle;\n",
              "    }\n",
              "\n",
              "    .dataframe tbody tr th {\n",
              "        vertical-align: top;\n",
              "    }\n",
              "\n",
              "    .dataframe thead th {\n",
              "        text-align: right;\n",
              "    }\n",
              "</style>\n",
              "<table border=\"1\" class=\"dataframe\">\n",
              "  <thead>\n",
              "    <tr style=\"text-align: right;\">\n",
              "      <th></th>\n",
              "      <th>Survived</th>\n",
              "      <th>Pclass</th>\n",
              "      <th>Sex</th>\n",
              "      <th>Age</th>\n",
              "      <th>SibSp</th>\n",
              "      <th>Parch</th>\n",
              "      <th>Ticket</th>\n",
              "      <th>Fare</th>\n",
              "      <th>Cabin</th>\n",
              "      <th>Embarked</th>\n",
              "    </tr>\n",
              "  </thead>\n",
              "  <tbody>\n",
              "    <tr>\n",
              "      <th>0</th>\n",
              "      <td>0</td>\n",
              "      <td>3</td>\n",
              "      <td>male</td>\n",
              "      <td>22.0</td>\n",
              "      <td>1</td>\n",
              "      <td>0</td>\n",
              "      <td>A/5 21171</td>\n",
              "      <td>7.2500</td>\n",
              "      <td>NaN</td>\n",
              "      <td>S</td>\n",
              "    </tr>\n",
              "    <tr>\n",
              "      <th>1</th>\n",
              "      <td>1</td>\n",
              "      <td>1</td>\n",
              "      <td>female</td>\n",
              "      <td>38.0</td>\n",
              "      <td>1</td>\n",
              "      <td>0</td>\n",
              "      <td>PC 17599</td>\n",
              "      <td>71.2833</td>\n",
              "      <td>C85</td>\n",
              "      <td>C</td>\n",
              "    </tr>\n",
              "    <tr>\n",
              "      <th>2</th>\n",
              "      <td>1</td>\n",
              "      <td>3</td>\n",
              "      <td>female</td>\n",
              "      <td>26.0</td>\n",
              "      <td>0</td>\n",
              "      <td>0</td>\n",
              "      <td>STON/O2. 3101282</td>\n",
              "      <td>7.9250</td>\n",
              "      <td>NaN</td>\n",
              "      <td>S</td>\n",
              "    </tr>\n",
              "    <tr>\n",
              "      <th>3</th>\n",
              "      <td>1</td>\n",
              "      <td>1</td>\n",
              "      <td>female</td>\n",
              "      <td>35.0</td>\n",
              "      <td>1</td>\n",
              "      <td>0</td>\n",
              "      <td>113803</td>\n",
              "      <td>53.1000</td>\n",
              "      <td>C123</td>\n",
              "      <td>S</td>\n",
              "    </tr>\n",
              "    <tr>\n",
              "      <th>4</th>\n",
              "      <td>0</td>\n",
              "      <td>3</td>\n",
              "      <td>male</td>\n",
              "      <td>35.0</td>\n",
              "      <td>0</td>\n",
              "      <td>0</td>\n",
              "      <td>373450</td>\n",
              "      <td>8.0500</td>\n",
              "      <td>NaN</td>\n",
              "      <td>S</td>\n",
              "    </tr>\n",
              "  </tbody>\n",
              "</table>\n",
              "</div>\n",
              "      <button class=\"colab-df-convert\" onclick=\"convertToInteractive('df-c7ce2438-9901-4a85-9a07-d516575df762')\"\n",
              "              title=\"Convert this dataframe to an interactive table.\"\n",
              "              style=\"display:none;\">\n",
              "        \n",
              "  <svg xmlns=\"http://www.w3.org/2000/svg\" height=\"24px\"viewBox=\"0 0 24 24\"\n",
              "       width=\"24px\">\n",
              "    <path d=\"M0 0h24v24H0V0z\" fill=\"none\"/>\n",
              "    <path d=\"M18.56 5.44l.94 2.06.94-2.06 2.06-.94-2.06-.94-.94-2.06-.94 2.06-2.06.94zm-11 1L8.5 8.5l.94-2.06 2.06-.94-2.06-.94L8.5 2.5l-.94 2.06-2.06.94zm10 10l.94 2.06.94-2.06 2.06-.94-2.06-.94-.94-2.06-.94 2.06-2.06.94z\"/><path d=\"M17.41 7.96l-1.37-1.37c-.4-.4-.92-.59-1.43-.59-.52 0-1.04.2-1.43.59L10.3 9.45l-7.72 7.72c-.78.78-.78 2.05 0 2.83L4 21.41c.39.39.9.59 1.41.59.51 0 1.02-.2 1.41-.59l7.78-7.78 2.81-2.81c.8-.78.8-2.07 0-2.86zM5.41 20L4 18.59l7.72-7.72 1.47 1.35L5.41 20z\"/>\n",
              "  </svg>\n",
              "      </button>\n",
              "      \n",
              "  <style>\n",
              "    .colab-df-container {\n",
              "      display:flex;\n",
              "      flex-wrap:wrap;\n",
              "      gap: 12px;\n",
              "    }\n",
              "\n",
              "    .colab-df-convert {\n",
              "      background-color: #E8F0FE;\n",
              "      border: none;\n",
              "      border-radius: 50%;\n",
              "      cursor: pointer;\n",
              "      display: none;\n",
              "      fill: #1967D2;\n",
              "      height: 32px;\n",
              "      padding: 0 0 0 0;\n",
              "      width: 32px;\n",
              "    }\n",
              "\n",
              "    .colab-df-convert:hover {\n",
              "      background-color: #E2EBFA;\n",
              "      box-shadow: 0px 1px 2px rgba(60, 64, 67, 0.3), 0px 1px 3px 1px rgba(60, 64, 67, 0.15);\n",
              "      fill: #174EA6;\n",
              "    }\n",
              "\n",
              "    [theme=dark] .colab-df-convert {\n",
              "      background-color: #3B4455;\n",
              "      fill: #D2E3FC;\n",
              "    }\n",
              "\n",
              "    [theme=dark] .colab-df-convert:hover {\n",
              "      background-color: #434B5C;\n",
              "      box-shadow: 0px 1px 3px 1px rgba(0, 0, 0, 0.15);\n",
              "      filter: drop-shadow(0px 1px 2px rgba(0, 0, 0, 0.3));\n",
              "      fill: #FFFFFF;\n",
              "    }\n",
              "  </style>\n",
              "\n",
              "      <script>\n",
              "        const buttonEl =\n",
              "          document.querySelector('#df-c7ce2438-9901-4a85-9a07-d516575df762 button.colab-df-convert');\n",
              "        buttonEl.style.display =\n",
              "          google.colab.kernel.accessAllowed ? 'block' : 'none';\n",
              "\n",
              "        async function convertToInteractive(key) {\n",
              "          const element = document.querySelector('#df-c7ce2438-9901-4a85-9a07-d516575df762');\n",
              "          const dataTable =\n",
              "            await google.colab.kernel.invokeFunction('convertToInteractive',\n",
              "                                                     [key], {});\n",
              "          if (!dataTable) return;\n",
              "\n",
              "          const docLinkHtml = 'Like what you see? Visit the ' +\n",
              "            '<a target=\"_blank\" href=https://colab.research.google.com/notebooks/data_table.ipynb>data table notebook</a>'\n",
              "            + ' to learn more about interactive tables.';\n",
              "          element.innerHTML = '';\n",
              "          dataTable['output_type'] = 'display_data';\n",
              "          await google.colab.output.renderOutput(dataTable, element);\n",
              "          const docLink = document.createElement('div');\n",
              "          docLink.innerHTML = docLinkHtml;\n",
              "          element.appendChild(docLink);\n",
              "        }\n",
              "      </script>\n",
              "    </div>\n",
              "  </div>\n",
              "  "
            ],
            "text/plain": [
              "   Survived  Pclass     Sex   Age  ...            Ticket     Fare Cabin  Embarked\n",
              "0         0       3    male  22.0  ...         A/5 21171   7.2500   NaN         S\n",
              "1         1       1  female  38.0  ...          PC 17599  71.2833   C85         C\n",
              "2         1       3  female  26.0  ...  STON/O2. 3101282   7.9250   NaN         S\n",
              "3         1       1  female  35.0  ...            113803  53.1000  C123         S\n",
              "4         0       3    male  35.0  ...            373450   8.0500   NaN         S\n",
              "\n",
              "[5 rows x 10 columns]"
            ]
          },
          "metadata": {},
          "execution_count": 6
        }
      ],
      "source": [
        "file1_train.head()"
      ]
    },
    {
      "cell_type": "code",
      "execution_count": 7,
      "id": "f286785b",
      "metadata": {
        "id": "f286785b"
      },
      "outputs": [],
      "source": [
        "objs = X.select_dtypes([\"object\"])\n",
        "num  = X.select_dtypes([\"number\"])"
      ]
    },
    {
      "cell_type": "code",
      "execution_count": 8,
      "id": "096e3987",
      "metadata": {
        "colab": {
          "base_uri": "https://localhost:8080/"
        },
        "id": "096e3987",
        "outputId": "328b298f-05a7-4cfa-af54-9a501e5be820"
      },
      "outputs": [
        {
          "output_type": "execute_result",
          "data": {
            "text/plain": [
              "Sex           0\n",
              "Ticket        0\n",
              "Cabin       687\n",
              "Embarked      2\n",
              "dtype: int64"
            ]
          },
          "metadata": {},
          "execution_count": 8
        }
      ],
      "source": [
        "objs.isnull().sum().head()"
      ]
    },
    {
      "cell_type": "code",
      "execution_count": 9,
      "id": "87723698",
      "metadata": {
        "colab": {
          "base_uri": "https://localhost:8080/"
        },
        "id": "87723698",
        "outputId": "3bfb8124-3f05-42ad-b403-a7bf6e2bbc35"
      },
      "outputs": [
        {
          "output_type": "execute_result",
          "data": {
            "text/plain": [
              "Pclass      0\n",
              "Age       177\n",
              "SibSp       0\n",
              "Parch       0\n",
              "Fare        0\n",
              "dtype: int64"
            ]
          },
          "metadata": {},
          "execution_count": 9
        }
      ],
      "source": [
        "num.isnull().sum().head()"
      ]
    },
    {
      "cell_type": "code",
      "execution_count": 10,
      "id": "e386d71a",
      "metadata": {
        "id": "e386d71a"
      },
      "outputs": [],
      "source": [
        "numerical_features = num.columns\n",
        "numerical_pipeline = Pipeline(\n",
        "    steps=[\n",
        "            (\"imputer\", SimpleImputer(strategy = 'mean')),\n",
        "            (\"scaler\", StandardScaler())\n",
        "])"
      ]
    },
    {
      "cell_type": "code",
      "execution_count": 11,
      "id": "e0970be3",
      "metadata": {
        "colab": {
          "base_uri": "https://localhost:8080/"
        },
        "id": "e0970be3",
        "outputId": "55cf79db-53a6-444c-d2f3-88849b5a3c38"
      },
      "outputs": [
        {
          "output_type": "stream",
          "name": "stdout",
          "text": [
            "Sex [577 314]\n",
            "Ticket [7 6 5 4 3 2 1]\n",
            "Cabin [4 3 2 1]\n",
            "Embarked [644 168  77]\n"
          ]
        }
      ],
      "source": [
        "for i in range(len(objs.columns)):\n",
        "    print(objs.columns[i], objs.iloc[:,i].value_counts().unique())"
      ]
    },
    {
      "cell_type": "code",
      "execution_count": 12,
      "id": "3ec03285",
      "metadata": {
        "id": "3ec03285"
      },
      "outputs": [],
      "source": [
        "binary = [\"Sex\"]\n",
        "binary_pipeline = Pipeline(steps=[(\"binary\", OneHotEncoder())])"
      ]
    },
    {
      "cell_type": "code",
      "execution_count": 13,
      "id": "fad4b2c9",
      "metadata": {
        "id": "fad4b2c9"
      },
      "outputs": [],
      "source": [
        "cat1 = [\"Ticket\", \"Cabin\", \"Embarked\"]\n",
        "catergorical_pipeline = Pipeline(steps=[(\"imputer\", SimpleImputer(strategy = 'most_frequent')), (\"ordinal_encoder\", OrdinalEncoder()),(\"scaler\", StandardScaler())])"
      ]
    },
    {
      "cell_type": "code",
      "execution_count": 14,
      "id": "a225abcf",
      "metadata": {
        "id": "a225abcf"
      },
      "outputs": [],
      "source": [
        "data_preprocessor = ColumnTransformer( [('numerical', numerical_pipeline, numerical_features),\n",
        "                                      ('binary', binary_pipeline, binary),\n",
        "                                      ('categorical', catergorical_pipeline, cat1)])"
      ]
    },
    {
      "cell_type": "code",
      "execution_count": 15,
      "id": "f28f3c85",
      "metadata": {
        "colab": {
          "base_uri": "https://localhost:8080/",
          "height": 206
        },
        "id": "f28f3c85",
        "outputId": "19691a71-2aef-4b9d-8a54-cb81cf820b09"
      },
      "outputs": [
        {
          "output_type": "execute_result",
          "data": {
            "text/html": [
              "\n",
              "  <div id=\"df-5df701c6-220c-4342-86ea-1fcf2b48ab14\">\n",
              "    <div class=\"colab-df-container\">\n",
              "      <div>\n",
              "<style scoped>\n",
              "    .dataframe tbody tr th:only-of-type {\n",
              "        vertical-align: middle;\n",
              "    }\n",
              "\n",
              "    .dataframe tbody tr th {\n",
              "        vertical-align: top;\n",
              "    }\n",
              "\n",
              "    .dataframe thead th {\n",
              "        text-align: right;\n",
              "    }\n",
              "</style>\n",
              "<table border=\"1\" class=\"dataframe\">\n",
              "  <thead>\n",
              "    <tr style=\"text-align: right;\">\n",
              "      <th></th>\n",
              "      <th>Pclass</th>\n",
              "      <th>Sex</th>\n",
              "      <th>Age</th>\n",
              "      <th>SibSp</th>\n",
              "      <th>Parch</th>\n",
              "      <th>Ticket</th>\n",
              "      <th>Fare</th>\n",
              "      <th>Cabin</th>\n",
              "      <th>Embarked</th>\n",
              "    </tr>\n",
              "  </thead>\n",
              "  <tbody>\n",
              "    <tr>\n",
              "      <th>0</th>\n",
              "      <td>3</td>\n",
              "      <td>male</td>\n",
              "      <td>22.0</td>\n",
              "      <td>1</td>\n",
              "      <td>0</td>\n",
              "      <td>A/5 21171</td>\n",
              "      <td>7.2500</td>\n",
              "      <td>NaN</td>\n",
              "      <td>S</td>\n",
              "    </tr>\n",
              "    <tr>\n",
              "      <th>1</th>\n",
              "      <td>1</td>\n",
              "      <td>female</td>\n",
              "      <td>38.0</td>\n",
              "      <td>1</td>\n",
              "      <td>0</td>\n",
              "      <td>PC 17599</td>\n",
              "      <td>71.2833</td>\n",
              "      <td>C85</td>\n",
              "      <td>C</td>\n",
              "    </tr>\n",
              "    <tr>\n",
              "      <th>2</th>\n",
              "      <td>3</td>\n",
              "      <td>female</td>\n",
              "      <td>26.0</td>\n",
              "      <td>0</td>\n",
              "      <td>0</td>\n",
              "      <td>STON/O2. 3101282</td>\n",
              "      <td>7.9250</td>\n",
              "      <td>NaN</td>\n",
              "      <td>S</td>\n",
              "    </tr>\n",
              "    <tr>\n",
              "      <th>3</th>\n",
              "      <td>1</td>\n",
              "      <td>female</td>\n",
              "      <td>35.0</td>\n",
              "      <td>1</td>\n",
              "      <td>0</td>\n",
              "      <td>113803</td>\n",
              "      <td>53.1000</td>\n",
              "      <td>C123</td>\n",
              "      <td>S</td>\n",
              "    </tr>\n",
              "    <tr>\n",
              "      <th>4</th>\n",
              "      <td>3</td>\n",
              "      <td>male</td>\n",
              "      <td>35.0</td>\n",
              "      <td>0</td>\n",
              "      <td>0</td>\n",
              "      <td>373450</td>\n",
              "      <td>8.0500</td>\n",
              "      <td>NaN</td>\n",
              "      <td>S</td>\n",
              "    </tr>\n",
              "  </tbody>\n",
              "</table>\n",
              "</div>\n",
              "      <button class=\"colab-df-convert\" onclick=\"convertToInteractive('df-5df701c6-220c-4342-86ea-1fcf2b48ab14')\"\n",
              "              title=\"Convert this dataframe to an interactive table.\"\n",
              "              style=\"display:none;\">\n",
              "        \n",
              "  <svg xmlns=\"http://www.w3.org/2000/svg\" height=\"24px\"viewBox=\"0 0 24 24\"\n",
              "       width=\"24px\">\n",
              "    <path d=\"M0 0h24v24H0V0z\" fill=\"none\"/>\n",
              "    <path d=\"M18.56 5.44l.94 2.06.94-2.06 2.06-.94-2.06-.94-.94-2.06-.94 2.06-2.06.94zm-11 1L8.5 8.5l.94-2.06 2.06-.94-2.06-.94L8.5 2.5l-.94 2.06-2.06.94zm10 10l.94 2.06.94-2.06 2.06-.94-2.06-.94-.94-2.06-.94 2.06-2.06.94z\"/><path d=\"M17.41 7.96l-1.37-1.37c-.4-.4-.92-.59-1.43-.59-.52 0-1.04.2-1.43.59L10.3 9.45l-7.72 7.72c-.78.78-.78 2.05 0 2.83L4 21.41c.39.39.9.59 1.41.59.51 0 1.02-.2 1.41-.59l7.78-7.78 2.81-2.81c.8-.78.8-2.07 0-2.86zM5.41 20L4 18.59l7.72-7.72 1.47 1.35L5.41 20z\"/>\n",
              "  </svg>\n",
              "      </button>\n",
              "      \n",
              "  <style>\n",
              "    .colab-df-container {\n",
              "      display:flex;\n",
              "      flex-wrap:wrap;\n",
              "      gap: 12px;\n",
              "    }\n",
              "\n",
              "    .colab-df-convert {\n",
              "      background-color: #E8F0FE;\n",
              "      border: none;\n",
              "      border-radius: 50%;\n",
              "      cursor: pointer;\n",
              "      display: none;\n",
              "      fill: #1967D2;\n",
              "      height: 32px;\n",
              "      padding: 0 0 0 0;\n",
              "      width: 32px;\n",
              "    }\n",
              "\n",
              "    .colab-df-convert:hover {\n",
              "      background-color: #E2EBFA;\n",
              "      box-shadow: 0px 1px 2px rgba(60, 64, 67, 0.3), 0px 1px 3px 1px rgba(60, 64, 67, 0.15);\n",
              "      fill: #174EA6;\n",
              "    }\n",
              "\n",
              "    [theme=dark] .colab-df-convert {\n",
              "      background-color: #3B4455;\n",
              "      fill: #D2E3FC;\n",
              "    }\n",
              "\n",
              "    [theme=dark] .colab-df-convert:hover {\n",
              "      background-color: #434B5C;\n",
              "      box-shadow: 0px 1px 3px 1px rgba(0, 0, 0, 0.15);\n",
              "      filter: drop-shadow(0px 1px 2px rgba(0, 0, 0, 0.3));\n",
              "      fill: #FFFFFF;\n",
              "    }\n",
              "  </style>\n",
              "\n",
              "      <script>\n",
              "        const buttonEl =\n",
              "          document.querySelector('#df-5df701c6-220c-4342-86ea-1fcf2b48ab14 button.colab-df-convert');\n",
              "        buttonEl.style.display =\n",
              "          google.colab.kernel.accessAllowed ? 'block' : 'none';\n",
              "\n",
              "        async function convertToInteractive(key) {\n",
              "          const element = document.querySelector('#df-5df701c6-220c-4342-86ea-1fcf2b48ab14');\n",
              "          const dataTable =\n",
              "            await google.colab.kernel.invokeFunction('convertToInteractive',\n",
              "                                                     [key], {});\n",
              "          if (!dataTable) return;\n",
              "\n",
              "          const docLinkHtml = 'Like what you see? Visit the ' +\n",
              "            '<a target=\"_blank\" href=https://colab.research.google.com/notebooks/data_table.ipynb>data table notebook</a>'\n",
              "            + ' to learn more about interactive tables.';\n",
              "          element.innerHTML = '';\n",
              "          dataTable['output_type'] = 'display_data';\n",
              "          await google.colab.output.renderOutput(dataTable, element);\n",
              "          const docLink = document.createElement('div');\n",
              "          docLink.innerHTML = docLinkHtml;\n",
              "          element.appendChild(docLink);\n",
              "        }\n",
              "      </script>\n",
              "    </div>\n",
              "  </div>\n",
              "  "
            ],
            "text/plain": [
              "   Pclass     Sex   Age  SibSp  Parch            Ticket     Fare Cabin Embarked\n",
              "0       3    male  22.0      1      0         A/5 21171   7.2500   NaN        S\n",
              "1       1  female  38.0      1      0          PC 17599  71.2833   C85        C\n",
              "2       3  female  26.0      0      0  STON/O2. 3101282   7.9250   NaN        S\n",
              "3       1  female  35.0      1      0            113803  53.1000  C123        S\n",
              "4       3    male  35.0      0      0            373450   8.0500   NaN        S"
            ]
          },
          "metadata": {},
          "execution_count": 15
        }
      ],
      "source": [
        "X.head()"
      ]
    },
    {
      "cell_type": "code",
      "execution_count": 16,
      "id": "03e2cd19",
      "metadata": {
        "id": "03e2cd19"
      },
      "outputs": [],
      "source": [
        "X = Pipeline(steps=[('processing',data_preprocessor)]).fit_transform(X)"
      ]
    },
    {
      "cell_type": "code",
      "execution_count": 17,
      "id": "773d4e48",
      "metadata": {
        "id": "773d4e48"
      },
      "outputs": [],
      "source": [
        "param_distribs = {'learn_rate' : np.array(np.linspace(.1,.9))}"
      ]
    },
    {
      "cell_type": "code",
      "execution_count": 18,
      "id": "4e32aee5",
      "metadata": {
        "id": "4e32aee5"
      },
      "outputs": [],
      "source": [
        "def base_model1(learn_rate = .1):\n",
        "    input_dim = X.shape[1]\n",
        "    model =Sequential([\n",
        "    Dense(200 , input_dim = input_dim, activation= \"relu\"),\n",
        "    Dropout(rate=.10),\n",
        "    Dense(100, activation= \"tanh\"),\n",
        "    Dense(1,activation = \"sigmoid\"),\n",
        "    ])\n",
        "    lr_schedule = ExponentialDecay(\n",
        "    learn_rate,\n",
        "    decay_steps=100000,\n",
        "    decay_rate=0.96,\n",
        "    staircase=True)\n",
        "    model.compile(loss='binary_crossentropy',optimizer=tf.keras.optimizers.Adam(learning_rate=lr_schedule), metrics=[\"accuracy\"])\n",
        "    return model"
      ]
    },
    {
      "cell_type": "code",
      "execution_count": 19,
      "id": "caf63d58",
      "metadata": {
        "id": "caf63d58"
      },
      "outputs": [],
      "source": [
        "checkpoint = [ModelCheckpoint(\"Titanic.h5\", monitor='accuracy', verbose=1, save_best_only=True, save_weights_only=False, mode='auto', save_freq='epoch')]\n",
        "early = EarlyStopping(monitor='accuracy', min_delta=0, patience=10, verbose=1, mode='auto')"
      ]
    },
    {
      "cell_type": "code",
      "execution_count": 21,
      "id": "882094d1",
      "metadata": {
        "colab": {
          "base_uri": "https://localhost:8080/"
        },
        "id": "882094d1",
        "outputId": "2aeec7dc-1d30-4b53-841f-9d621091774f"
      },
      "outputs": [
        {
          "output_type": "stream",
          "name": "stderr",
          "text": [
            "/usr/local/lib/python3.7/dist-packages/ipykernel_launcher.py:1: DeprecationWarning: KerasClassifier is deprecated, use Sci-Keras (https://github.com/adriangb/scikeras) instead.\n",
            "  \"\"\"Entry point for launching an IPython kernel.\n"
          ]
        }
      ],
      "source": [
        "NN_clf = KerasClassifier(build_fn=base_model1, epochs=100, verbose=1, callbacks =[checkpoint,early] )"
      ]
    },
    {
      "cell_type": "code",
      "execution_count": 23,
      "id": "18663993",
      "metadata": {
        "id": "18663993"
      },
      "outputs": [],
      "source": [
        "%%capture\n",
        "random_trainor = GridSearchCV(estimator=NN_clf,param_grid=param_distribs, cv=None)\n",
        "random_trainor.fit(X,(y.values.reshape(-1,1)))"
      ]
    },
    {
      "cell_type": "code",
      "execution_count": 24,
      "id": "bf0742c2",
      "metadata": {
        "id": "bf0742c2"
      },
      "outputs": [],
      "source": [
        "best = random_trainor.best_estimator_.model"
      ]
    },
    {
      "cell_type": "code",
      "execution_count": 25,
      "id": "093f4240",
      "metadata": {
        "colab": {
          "base_uri": "https://localhost:8080/"
        },
        "id": "093f4240",
        "outputId": "cb4f79e6-0660-43be-fe55-58635bfc8e5c"
      },
      "outputs": [
        {
          "output_type": "stream",
          "name": "stdout",
          "text": [
            "Model: \"sequential_413\"\n",
            "_________________________________________________________________\n",
            " Layer (type)                Output Shape              Param #   \n",
            "=================================================================\n",
            " dense_1239 (Dense)          (None, 200)               2200      \n",
            "                                                                 \n",
            " dropout_413 (Dropout)       (None, 200)               0         \n",
            "                                                                 \n",
            " dense_1240 (Dense)          (None, 100)               20100     \n",
            "                                                                 \n",
            " dense_1241 (Dense)          (None, 1)                 101       \n",
            "                                                                 \n",
            "=================================================================\n",
            "Total params: 22,401\n",
            "Trainable params: 22,401\n",
            "Non-trainable params: 0\n",
            "_________________________________________________________________\n"
          ]
        }
      ],
      "source": [
        "best.summary()"
      ]
    },
    {
      "cell_type": "code",
      "execution_count": 26,
      "id": "12eea2d9",
      "metadata": {
        "id": "12eea2d9"
      },
      "outputs": [],
      "source": [
        "best.save(\"Titanic.h5\")"
      ]
    },
    {
      "cell_type": "code",
      "execution_count": 31,
      "id": "10f77f7b",
      "metadata": {
        "id": "10f77f7b"
      },
      "outputs": [],
      "source": [
        "X_test = data_preprocessor.fit_transform(file2_test)"
      ]
    },
    {
      "cell_type": "code",
      "execution_count": 32,
      "id": "2c116ba9",
      "metadata": {
        "id": "2c116ba9"
      },
      "outputs": [],
      "source": [
        "PassengerId = file2_test[\"PassengerId\"].to_list()"
      ]
    },
    {
      "cell_type": "code",
      "execution_count": 33,
      "id": "78689971",
      "metadata": {
        "id": "78689971"
      },
      "outputs": [],
      "source": [
        "final_pred = (best.predict(X_test) > 0.5).astype(\"int32\").flatten()"
      ]
    },
    {
      "cell_type": "code",
      "execution_count": 30,
      "id": "46f7059c",
      "metadata": {
        "id": "46f7059c"
      },
      "outputs": [],
      "source": [
        "#d = {\"PassengerId\":PassengerId, \"Survived\":final_pred}\n",
        "#pd.DataFrame(data=d,index=None, columns= [\"PassengerId\",\"Survived\"]).to_csv(\"12232021.csv\",index=False, header=1)"
      ]
    },
    {
      "cell_type": "code",
      "execution_count": null,
      "id": "5ca33ba5",
      "metadata": {
        "id": "5ca33ba5"
      },
      "outputs": [],
      "source": [
        ""
      ]
    },
    {
      "cell_type": "code",
      "execution_count": null,
      "id": "43cae013",
      "metadata": {
        "id": "43cae013"
      },
      "outputs": [],
      "source": [
        ""
      ]
    }
  ],
  "metadata": {
    "kernelspec": {
      "display_name": "Python 3 (ipykernel)",
      "language": "python",
      "name": "python3"
    },
    "language_info": {
      "codemirror_mode": {
        "name": "ipython",
        "version": 3
      },
      "file_extension": ".py",
      "mimetype": "text/x-python",
      "name": "python",
      "nbconvert_exporter": "python",
      "pygments_lexer": "ipython3",
      "version": "3.8.12"
    },
    "colab": {
      "name": "TitanicML.ipynb",
      "provenance": [],
      "collapsed_sections": []
    }
  },
  "nbformat": 4,
  "nbformat_minor": 5
}